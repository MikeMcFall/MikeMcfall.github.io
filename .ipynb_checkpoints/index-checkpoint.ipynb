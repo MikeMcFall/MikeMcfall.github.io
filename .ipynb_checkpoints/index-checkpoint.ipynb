{
 "cells": [
  {
   "cell_type": "markdown",
   "id": "0e020ae5",
   "metadata": {},
   "source": [
    "![Hello](Michael+J+McFall-logo.png)"
   ]
  },
  {
   "cell_type": "markdown",
   "id": "02a6d03a",
   "metadata": {},
   "source": [
    "<a href=index.html>Home</a> | <a href=resume.ipynb>Resume</a>"
   ]
  },
  {
   "cell_type": "markdown",
   "id": "1723e232",
   "metadata": {},
   "source": [
    "This site is created using Jupyter notebooks."
   ]
  }
 ],
 "metadata": {
  "kernelspec": {
   "display_name": "Python 3",
   "language": "python",
   "name": "python3"
  },
  "language_info": {
   "codemirror_mode": {
    "name": "ipython",
    "version": 3
   },
   "file_extension": ".py",
   "mimetype": "text/x-python",
   "name": "python",
   "nbconvert_exporter": "python",
   "pygments_lexer": "ipython3",
   "version": "3.7.6"
  }
 },
 "nbformat": 4,
 "nbformat_minor": 5
}
