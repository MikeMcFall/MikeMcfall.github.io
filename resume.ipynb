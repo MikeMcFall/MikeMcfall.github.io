{
 "cells": [
  {
   "cell_type": "markdown",
   "id": "2c744192",
   "metadata": {},
   "source": [
    "## Education\n",
    "### Springboard Data Science Career Track\n",
    "February 2020\n",
    "- 550+ hours of hands-on curriculum, with 1:1 industry expert mentor oversight, and completion of 2 in-depth capstone projects. Mastering skills in Python, SQL, data analysis, data visualization, hypothesis testing, and machine learning.\n",
    "- **Predictive Analytics - Food Access** (May - August 2019)\n",
    "    - Developed a model to predict the ratio of convenience stores to grocery stores in a county.\n",
    "\t- Combined data sets from the USDA, the Census Bureau, and the IRS to add multiple socioeconomic features to the store counts.\n",
    "\t- Used RMSE to evaluate performance of linear regression, random forest, and gradient boosting models.\n",
    "- **Time Series Analysis - Recruit Restaurant Visitor Forecasting** (September - December 2019)\n",
    "    - Developed a model to predict the number of visitors per day to over 700 restaurants.\n",
    "    - Used time-series analysis to create additional features.\n",
    "    \n",
    "---\n",
    "### Master of Science, Physics\n",
    "#### The Ohio State University\n",
    "August 2015"
   ]
  }
 ],
 "metadata": {
  "kernelspec": {
   "display_name": "Python 3",
   "language": "python",
   "name": "python3"
  },
  "language_info": {
   "codemirror_mode": {
    "name": "ipython",
    "version": 3
   },
   "file_extension": ".py",
   "mimetype": "text/x-python",
   "name": "python",
   "nbconvert_exporter": "python",
   "pygments_lexer": "ipython3",
   "version": "3.7.6"
  }
 },
 "nbformat": 4,
 "nbformat_minor": 5
}
