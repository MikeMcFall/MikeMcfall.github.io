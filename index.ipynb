{
 "cells": [
  {
   "cell_type": "markdown",
   "id": "76de0bcc",
   "metadata": {},
   "source": [
    "# Michael J McFall\n",
    "## Data Science | Python | Tableau"
   ]
  },
  {
   "cell_type": "markdown",
   "id": "08006ac6",
   "metadata": {},
   "source": [
    "<a href=resume.htm> Resume </a>"
   ]
  }
 ],
 "metadata": {
  "kernelspec": {
   "display_name": "Python 3",
   "language": "python",
   "name": "python3"
  },
  "language_info": {
   "codemirror_mode": {
    "name": "ipython",
    "version": 3
   },
   "file_extension": ".py",
   "mimetype": "text/x-python",
   "name": "python",
   "nbconvert_exporter": "python",
   "pygments_lexer": "ipython3",
   "version": "3.7.6"
  }
 },
 "nbformat": 4,
 "nbformat_minor": 5
}
